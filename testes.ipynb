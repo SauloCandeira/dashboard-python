{
 "cells": [
  {
   "cell_type": "code",
   "execution_count": 5,
   "metadata": {},
   "outputs": [
    {
     "name": "stdout",
     "output_type": "stream",
     "text": [
      "    nome     valor                    dt\n",
      "0  ATLAS  R$0.4092  2021-09-30 08:19:56.\n",
      "1  ATLAS  R$0.4487  2021-09-27 12:16:49.\n",
      "2    XRP    R$5.07  2021-09-27 12:16:50.\n",
      "3    XRP    R$5.08  2021-09-30 08:19:59.\n",
      "    tonner  nome  ipv4 andar  sala setor total_impressao total_scan  \\\n",
      "0        0     0     0     0     0     0               0          0   \n",
      "1        0     0     0     0     0     0               0          0   \n",
      "2        0     0     0     0     0     0               0          0   \n",
      "3        0     0     0     0     0     0               0          0   \n",
      "4        0     0     0     0     0     0               0          0   \n",
      "..     ...   ...   ...   ...   ...   ...             ...        ...   \n",
      "112   ERRO  ERRO  ERRO  ERRO  ERRO  ERRO            ERRO       ERRO   \n",
      "113   ERRO  ERRO  ERRO  ERRO  ERRO  ERRO            ERRO       ERRO   \n",
      "114   ERRO  ERRO  ERRO  ERRO  ERRO  ERRO            ERRO       ERRO   \n",
      "115   ERRO  ERRO  ERRO  ERRO  ERRO  ERRO            ERRO       ERRO   \n",
      "116   ERRO  ERRO  ERRO  ERRO  ERRO  ERRO            ERRO       ERRO   \n",
      "\n",
      "    total_cilindro          dt  \n",
      "0                0  2021-09-16  \n",
      "1                0  2021-09-16  \n",
      "2                0  2021-09-16  \n",
      "3                0  2021-09-16  \n",
      "4                0  2021-09-16  \n",
      "..             ...         ...  \n",
      "112           ERRO  2021-09-14  \n",
      "113           ERRO  2021-09-14  \n",
      "114           ERRO  2021-09-14  \n",
      "115           ERRO  2021-09-15  \n",
      "116           ERRO  2021-09-15  \n",
      "\n",
      "[117 rows x 10 columns]\n"
     ]
    }
   ],
   "source": [
    "#! python3\n",
    "#!/usr/bin/env python\n",
    "# -*- coding: utf-8 -*-\n",
    "\n",
    "import pyodbc\n",
    "import pandas as pd\n",
    "\n",
    "############################# BANCO DE DADOS\n",
    "# ----------------- SELECT I \n",
    "conn = pyodbc.connect('DRIVER={ODBC Driver 17 for SQL Server};SERVER=DESKTOP-GSL6MTU;DATABASE=imp-cgdf;Trusted_Connection=yes;')\n",
    "def connectSQLServer(conn):\n",
    "    connSQLServer = conn\n",
    "    return connSQLServer\n",
    "sql_query = (''' SELECT * FROM bpo order by DATA ''')\n",
    "sql_query2 = (''' SELECT * FROM carteira_Ativos$ order by valor,dt''')\n",
    "sql_query3 = ('''SELECT * FROM impressoras''' )\n",
    "############################# TRATAMENTO DE DADOS\n",
    "\n",
    "df = pd.read_sql(sql_query,conn)\n",
    "df2 = pd.read_sql(sql_query2,conn)\n",
    "df3 = pd.read_sql(sql_query3,conn)\n",
    "\n",
    "#print(df)\n",
    "print(df2)\n",
    "print(df3)\n",
    "#"
   ]
  },
  {
   "cell_type": "code",
   "execution_count": 4,
   "metadata": {},
   "outputs": [
    {
     "name": "stdout",
     "output_type": "stream",
     "text": [
      "    mesAno                           nmOrgao valorDespesaEmpenhada  \\\n",
      "0  01/2021  63000 - Advocacia-Geral da União      1.674.655.176,09   \n",
      "1  02/2021  63000 - Advocacia-Geral da União         14.649.949,25   \n",
      "2  03/2021  63000 - Advocacia-Geral da União         17.150.893,14   \n",
      "3  04/2021  63000 - Advocacia-Geral da União        182.286.742,61   \n",
      "4  05/2021  63000 - Advocacia-Geral da União      1.215.810.357,48   \n",
      "5  06/2021  63000 - Advocacia-Geral da União        126.464.711,46   \n",
      "6  07/2021  63000 - Advocacia-Geral da União         27.247.364,11   \n",
      "7  08/2021  63000 - Advocacia-Geral da União        148.289.705,44   \n",
      "\n",
      "  valorDespesaLiquidada valorDespesaPaga  valorRestoPago  \n",
      "0        275.943.258,15    98.150.443,08  242.176.325,94  \n",
      "1        291.932.462,03   291.657.861,95   29.305.344,81  \n",
      "2        309.906.836,57   298.262.430,11    3.690.172,59  \n",
      "3        296.397.384,92   310.448.252,86   10.270.734,26  \n",
      "4        313.384.390,88   305.974.928,00    2.332.433,16  \n",
      "5        372.281.185,52   310.192.771,56    6.573.225,22  \n",
      "6        301.090.937,14   374.166.958,21    6.590.915,16  \n",
      "7        287.757.633,96   289.488.651,91    1.320.862,24  \n"
     ]
    }
   ],
   "source": [
    "import pyodbc\n",
    "import pandas as pd\n",
    "############################# BANCO DE DADOS\n",
    "# ----------------- SELECT I \n",
    "conn = pyodbc.connect('DRIVER={ODBC Driver 17 for SQL Server};SERVER=DESKTOP-GSL6MTU;DATABASE=imp-cgdf;Trusted_Connection=yes;')\n",
    "#conn = pyodbc.connect('DRIVER={ODBC Driver 17 for SQL Server};SERVER=DESKTOP-BHUVH4U;DATABASE=db-Pojetos;Trusted_Connection=yes;')\n",
    "def connectSQLServer(conn):\n",
    "    connSQLServer = conn\n",
    "    return connSQLServer\n",
    "sql_query4 = (''' SELECT mesAno, ValorDespesaEmpenhada FROM despesas_orgaos order by mesAno''')\n",
    "#sql_query4 = (''' SELECT * FROM despesas_orgaos order by len(valorDespesaEmpenhada), 'valorDespesaEmpenhada' ''')\n",
    "#sql_query5 = (''' select * from despesas_orgaos order by mesAno ''')\n",
    "\n",
    "\n",
    "############################# TRATAMENTO DE DADOS\n",
    "\n",
    "df4 = pd.read_sql(sql_query4,conn)\n",
    "\n",
    "print(df4)"
   ]
  },
  {
   "cell_type": "code",
   "execution_count": 17,
   "metadata": {},
   "outputs": [],
   "source": [
    "import pyodbc\n",
    "import pandas as pd \n",
    "import numpy as np \n",
    "from pandas.core.frame import DataFrame\n",
    "\n",
    "\n",
    "\n",
    "# PARTE I - LER JSON\n",
    "url = 'https://www.portaltransparencia.gov.br/despesas/orgao/resultado?paginacaoSimples=false&tamanhoPagina=1889&offset=0&direcaoOrdenacao=asc&colunaOrdenacao=orgaoSuperior&de=01%2F01%2F2021&ate=31%2F08%2F2021&colunasSelecionadas=linkDetalhamento%2CmesAno%2CorgaoSuperior%2CorgaoVinculado%2CvalorDespesaEmpenhada%2CvalorDespesaLiquidada%2CvalorDespesaPaga%2CvalorRestoPago&_=1628798234307'\n",
    "arquivo_json = pd.read_json(url)\n",
    "base_dados = arquivo_json[\"data\"]\n",
    "#print(base_dados)\n",
    "\n",
    "\n",
    "# PARTE II - FILTRAR JSON\n",
    "for tabelas in base_dados:\n",
    "    \n",
    "    mesAno = tabelas['mesAno']\n",
    "    orgao = tabelas['orgaoSuperior']\n",
    "    valorDespesaEmpenhada = tabelas['valorDespesaEmpenhada']\n",
    "    valorDespesaLiquidada = tabelas['valorDespesaLiquidada']\n",
    "    valorDespesaPaga = tabelas['valorDespesaPaga']\n",
    "    valorRestoPago = tabelas['valorRestoPago']\n",
    "\n",
    "\n",
    "    if tabelas['orgaoSuperior'].strip() == '63000 - Advocacia-Geral da União':\n",
    "\n",
    "        print('Mês/Ano:', mesAno, '; ', 'Orgão: ', orgao, '; ','Valor Despesa Empenhada: ', valorDespesaEmpenhada, '; ', 'Valor Despesa Liquidada: ', valorDespesaLiquidada, '; ', 'Valor Despesa Paga: ' , valorDespesaPaga, '; ', 'Valor Resto Pago: ', valorRestoPago)\n",
    "\n",
    "        conn = pyodbc.connect('DRIVER={ODBC Driver 17 for SQL Server};SERVER=DESKTOP-GSL6MTU;DATABASE=imp-cgdf;Trusted_Connection=yes;')\n",
    "        cursor = conn.cursor()\n",
    "        string_sql = f'''INSERT INTO despesas_orgaos VALUES ('{mesAno}', '{orgao}', '{valorDespesaEmpenhada}', '{valorDespesaLiquidada}', '{valorDespesaPaga}', '{valorRestoPago}')'''\n",
    "        cursor.execute(string_sql)\n",
    "        conn.commit()"
   ]
  },
  {
   "cell_type": "code",
   "execution_count": 12,
   "metadata": {},
   "outputs": [
    {
     "name": "stdout",
     "output_type": "stream",
     "text": [
      "    mesAno                           nmOrgao valorDespesaEmpenhada\n",
      "0  01/2021  63000 - Advocacia-Geral da União      1.674.655.176,09\n",
      "1  02/2021  63000 - Advocacia-Geral da União         14.649.949,25\n",
      "2  03/2021  63000 - Advocacia-Geral da União         17.150.893,14\n",
      "3  04/2021  63000 - Advocacia-Geral da União        182.286.742,61\n",
      "4  05/2021  63000 - Advocacia-Geral da União      1.215.810.357,48\n",
      "5  06/2021  63000 - Advocacia-Geral da União        126.464.711,46\n",
      "6  07/2021  63000 - Advocacia-Geral da União         27.247.364,11\n",
      "7  08/2021  63000 - Advocacia-Geral da União        148.289.705,44\n"
     ]
    }
   ],
   "source": [
    "import pyodbc\n",
    "import pandas\n",
    "\n",
    "conn = pyodbc.connect('DRIVER={ODBC Driver 17 for SQL Server};SERVER=DESKTOP-GSL6MTU;DATABASE=imp-cgdf;Trusted_Connection=yes;')\n",
    "def connectSQLServer(conn):\n",
    "    connSQLServer = conn\n",
    "    return connSQLServer\n",
    "sql_query = (''' SELECT mesAno, nmOrgao, valorDespesaEmpenhada FROM despesas_orgaos ORDER BY mesAno ''')\n",
    "\n",
    "df = pd.read_sql(sql_query,conn)\n",
    "print(df)"
   ]
  }
 ],
 "metadata": {
  "interpreter": {
   "hash": "c80e544ec111088e2f6dc801e1db3f1214225b608fdf7314f9da9f2659d0f6db"
  },
  "kernelspec": {
   "display_name": "Python 3.9.6 64-bit",
   "name": "python3"
  },
  "language_info": {
   "codemirror_mode": {
    "name": "ipython",
    "version": 3
   },
   "file_extension": ".py",
   "mimetype": "text/x-python",
   "name": "python",
   "nbconvert_exporter": "python",
   "pygments_lexer": "ipython3",
   "version": "3.9.6"
  }
 },
 "nbformat": 4,
 "nbformat_minor": 5
}
